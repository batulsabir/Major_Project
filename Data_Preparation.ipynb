{
 "cells": [
  {
   "cell_type": "code",
   "execution_count": 1,
   "metadata": {},
   "outputs": [],
   "source": [
    "import os\n",
    "import shutil\n",
    "import glob\n",
    "from tqdm import tqdm"
   ]
  },
  {
   "cell_type": "markdown",
   "metadata": {},
   "source": [
    "### Split Dataset into Open Eye and Closed Eye"
   ]
  },
  {
   "cell_type": "code",
   "execution_count": 16,
   "metadata": {},
   "outputs": [
    {
     "name": "stderr",
     "output_type": "stream",
     "text": [
      "0it [00:00, ?it/s]\n",
      "100%|██████████| 4410/4410 [00:00<00:00, 17121.76it/s]\n",
      "100%|██████████| 1114/1114 [00:00<00:00, 20112.84it/s]\n",
      "100%|██████████| 987/987 [00:00<00:00, 20697.34it/s]\n",
      "100%|██████████| 665/665 [00:00<00:00, 19836.09it/s]\n",
      "100%|██████████| 736/736 [00:00<00:00, 20302.98it/s]\n",
      "100%|██████████| 1648/1648 [00:00<00:00, 19489.80it/s]\n",
      "100%|██████████| 624/624 [00:00<00:00, 19416.92it/s]\n",
      "100%|██████████| 10257/10257 [00:00<00:00, 20751.06it/s]\n",
      "100%|██████████| 8728/8728 [00:00<00:00, 19193.54it/s]\n",
      "100%|██████████| 1889/1889 [00:00<00:00, 18958.00it/s]\n",
      "100%|██████████| 1648/1648 [00:00<00:00, 19939.92it/s]\n",
      "100%|██████████| 1012/1012 [00:00<00:00, 19544.14it/s]\n",
      "100%|██████████| 399/399 [00:00<00:00, 19057.20it/s]\n",
      "100%|██████████| 752/752 [00:00<00:00, 19987.18it/s]\n",
      "100%|██████████| 1738/1738 [00:00<00:00, 19132.12it/s]\n",
      "100%|██████████| 1246/1246 [00:00<00:00, 19680.30it/s]\n",
      "100%|██████████| 736/736 [00:00<00:00, 19568.49it/s]\n",
      "100%|██████████| 679/679 [00:00<00:00, 11863.86it/s]\n",
      "100%|██████████| 642/642 [00:00<00:00, 17458.36it/s]\n",
      "100%|██████████| 704/704 [00:00<00:00, 18594.51it/s]\n",
      "100%|██████████| 382/382 [00:00<00:00, 17611.50it/s]\n",
      "100%|██████████| 6162/6162 [00:00<00:00, 19489.44it/s]\n",
      "100%|██████████| 681/681 [00:00<00:00, 19698.63it/s]\n",
      "100%|██████████| 1393/1393 [00:00<00:00, 21236.94it/s]\n",
      "100%|██████████| 832/832 [00:00<00:00, 15619.99it/s]\n",
      "100%|██████████| 387/387 [00:00<00:00, 17358.15it/s]\n",
      "100%|██████████| 1069/1069 [00:00<00:00, 18462.73it/s]\n",
      "100%|██████████| 1502/1502 [00:00<00:00, 20688.67it/s]\n",
      "100%|██████████| 6193/6193 [00:00<00:00, 19249.64it/s]\n",
      "100%|██████████| 6175/6175 [00:00<00:00, 19879.03it/s]\n",
      "100%|██████████| 739/739 [00:00<00:00, 16975.31it/s]\n",
      "100%|██████████| 3242/3242 [00:00<00:00, 19456.17it/s]\n",
      "100%|██████████| 3605/3605 [00:00<00:00, 21069.94it/s]\n",
      "100%|██████████| 1384/1384 [00:00<00:00, 20913.57it/s]\n",
      "100%|██████████| 522/522 [00:00<00:00, 17450.08it/s]\n",
      "100%|██████████| 1132/1132 [00:00<00:00, 19784.29it/s]\n",
      "100%|██████████| 8884/8884 [00:00<00:00, 16793.12it/s]\n"
     ]
    }
   ],
   "source": [
    "Raw_DIR= './data/mrlEyes_2018_01'\n",
    "for dirpath, dirname, filenames in os.walk(Raw_DIR):\n",
    "    for i in tqdm([f for f in filenames if f.endswith('.png')]):\n",
    "        if i.split('_')[4]=='0':\n",
    "            shutil.copy(src=dirpath+'/'+i, dst='./data/prepared_data/Closed_Eyes')\n",
    "        \n",
    "        elif i.split('_')[4]=='1':\n",
    "            shutil.copy(src=dirpath+'/'+i, dst='./data/prepared_data/Open_Eyes')\n"
   ]
  },
  {
   "cell_type": "markdown",
   "metadata": {},
   "source": [
    "### Prepared test dataset manually, copying remaining files to train dataset"
   ]
  },
  {
   "cell_type": "code",
   "execution_count": 18,
   "metadata": {},
   "outputs": [
    {
     "data": {
      "text/plain": [
       "'./data/prepared_data/train/Closed_Eyes'"
      ]
     },
     "execution_count": 18,
     "metadata": {},
     "output_type": "execute_result"
    }
   ],
   "source": [
    "src_dir = './data/prepared_data/Closed_Eyes'\n",
    "\n",
    "dest_dir = './data/prepared_data/train/Closed_Eyes'\n",
    " \n",
    "\n",
    "files = os.listdir(src_dir)\n",
    " \n",
    "shutil.copytree(src_dir, dest_dir)"
   ]
  },
  {
   "cell_type": "code",
   "execution_count": 20,
   "metadata": {},
   "outputs": [
    {
     "data": {
      "text/plain": [
       "'./data/prepared_data/train/Open_Eyes'"
      ]
     },
     "execution_count": 20,
     "metadata": {},
     "output_type": "execute_result"
    }
   ],
   "source": [
    "src_dir = './data/prepared_data/Open_Eyes'\n",
    "\n",
    "dest_dir = './data/prepared_data/train/Open_Eyes'\n",
    " \n",
    "\n",
    "files = os.listdir(src_dir)\n",
    " \n",
    "shutil.copytree(src_dir, dest_dir)"
   ]
  },
  {
   "cell_type": "code",
   "execution_count": null,
   "metadata": {},
   "outputs": [],
   "source": []
  }
 ],
 "metadata": {
  "kernelspec": {
   "display_name": "Python 3 (ipykernel)",
   "language": "python",
   "name": "python3"
  },
  "language_info": {
   "codemirror_mode": {
    "name": "ipython",
    "version": 3
   },
   "file_extension": ".py",
   "mimetype": "text/x-python",
   "name": "python",
   "nbconvert_exporter": "python",
   "pygments_lexer": "ipython3",
   "version": "3.9.7"
  }
 },
 "nbformat": 4,
 "nbformat_minor": 4
}
